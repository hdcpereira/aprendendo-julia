{
 "cells": [
  {
   "cell_type": "markdown",
   "source": [
    "### Structs\n",
    "\n",
    "A struct is a powerful julia type that allows us to instantiate a new variable with all of its instances and also require who is creating the variable to follow a construction rule. The example bellow show us that a new `struct` called Prism has the instances called `length`, `width` and `heigth`. Since a prism can't have negative volume since its a real object, we then have the constructor function that only allows the instatiation of the variable with this struct when the rules are obeyed. "
   ],
   "metadata": {}
  },
  {
   "cell_type": "code",
   "execution_count": 1,
   "source": [
    "struct Prism\n",
    "    lenght::Real\n",
    "    width::Real\n",
    "    heigth::Real\n",
    "\n",
    "    function Prism()\n",
    "        new(1,1,1)\n",
    "    end\n",
    "\n",
    "    function Prism(l::Real, w::Real, h::Real)\n",
    "\n",
    "        if l < 0 || w < 0 || h < 0 \n",
    "            error(\"Can't have negative values for a prism's measures\")\n",
    "        else \n",
    "            new(l, w, h)\n",
    "        end\n",
    "    end\n",
    "end"
   ],
   "outputs": [],
   "metadata": {}
  },
  {
   "cell_type": "code",
   "execution_count": 2,
   "source": [
    "p = Prism(1, 2, 3)"
   ],
   "outputs": [
    {
     "output_type": "execute_result",
     "data": {
      "text/plain": [
       "Prism(1, 2, 3)"
      ]
     },
     "metadata": {},
     "execution_count": 2
    }
   ],
   "metadata": {}
  },
  {
   "cell_type": "code",
   "execution_count": 20,
   "source": [
    "volume(p::Prism) = p.lenght * p.heigth * p.width\n",
    "volume(p::mut_Prism) = p.lenght * p.heigth * p.width "
   ],
   "outputs": [
    {
     "output_type": "execute_result",
     "data": {
      "text/plain": [
       "volume (generic function with 2 methods)"
      ]
     },
     "metadata": {},
     "execution_count": 20
    }
   ],
   "metadata": {}
  },
  {
   "cell_type": "markdown",
   "source": [
    "Onde worth noting property of a struct is that once instantiated, we can't change its methods. For an example, lets take a look at the variable `p`."
   ],
   "metadata": {}
  },
  {
   "cell_type": "code",
   "execution_count": 21,
   "source": [
    "p.heigth"
   ],
   "outputs": [
    {
     "output_type": "execute_result",
     "data": {
      "text/plain": [
       "3"
      ]
     },
     "metadata": {},
     "execution_count": 21
    }
   ],
   "metadata": {}
  },
  {
   "cell_type": "markdown",
   "source": [
    "We cant change it. It will throw an error. "
   ],
   "metadata": {}
  },
  {
   "cell_type": "code",
   "execution_count": 22,
   "source": [
    "p.heigth = 10"
   ],
   "outputs": [
    {
     "output_type": "error",
     "ename": "LoadError",
     "evalue": "setfield! immutable struct of type Prism cannot be changed",
     "traceback": [
      "setfield! immutable struct of type Prism cannot be changed",
      "",
      "Stacktrace:",
      " [1] setproperty!(x::Prism, f::Symbol, v::Int64)",
      "   @ Base ./Base.jl:34",
      " [2] top-level scope",
      "   @ In[22]:1",
      " [3] eval",
      "   @ ./boot.jl:360 [inlined]",
      " [4] include_string(mapexpr::typeof(REPL.softscope), mod::Module, code::String, filename::String)",
      "   @ Base ./loading.jl:1116"
     ]
    }
   ],
   "metadata": {}
  },
  {
   "cell_type": "markdown",
   "source": [
    "If we want it to be mutable, we need to use the `mutable struct` type. "
   ],
   "metadata": {}
  },
  {
   "cell_type": "code",
   "execution_count": 23,
   "source": [
    "mutable struct mut_Prism\n",
    "    lenght::Real\n",
    "    width::Real\n",
    "    heigth::Real\n",
    "\n",
    "    function mut_Prism()\n",
    "        new(1,1,1)\n",
    "    end\n",
    "\n",
    "    function mut_Prism(l::Real, w::Real, h::Real)\n",
    "\n",
    "        if l < 0 || w < 0 || h < 0 \n",
    "            error(\"Can't have negative values for a prism's measures\")\n",
    "        else \n",
    "            new(l, w, h)\n",
    "        end\n",
    "    end\n",
    "end\n"
   ],
   "outputs": [],
   "metadata": {}
  },
  {
   "cell_type": "code",
   "execution_count": 24,
   "source": [
    "mut_p = mut_Prism(1, 2, 3)"
   ],
   "outputs": [
    {
     "output_type": "execute_result",
     "data": {
      "text/plain": [
       "mut_Prism(1, 2, 3)"
      ]
     },
     "metadata": {},
     "execution_count": 24
    }
   ],
   "metadata": {}
  },
  {
   "cell_type": "code",
   "execution_count": 25,
   "source": [
    "volume(mut_p)"
   ],
   "outputs": [
    {
     "output_type": "execute_result",
     "data": {
      "text/plain": [
       "6"
      ]
     },
     "metadata": {},
     "execution_count": 25
    }
   ],
   "metadata": {}
  },
  {
   "cell_type": "code",
   "execution_count": 26,
   "source": [
    "mut_p.heigth = 10 "
   ],
   "outputs": [
    {
     "output_type": "execute_result",
     "data": {
      "text/plain": [
       "10"
      ]
     },
     "metadata": {},
     "execution_count": 26
    }
   ],
   "metadata": {}
  },
  {
   "cell_type": "code",
   "execution_count": 27,
   "source": [
    "volume(mut_p)"
   ],
   "outputs": [
    {
     "output_type": "execute_result",
     "data": {
      "text/plain": [
       "20"
      ]
     },
     "metadata": {},
     "execution_count": 27
    }
   ],
   "metadata": {}
  },
  {
   "cell_type": "code",
   "execution_count": null,
   "source": [],
   "outputs": [],
   "metadata": {}
  }
 ],
 "metadata": {
  "orig_nbformat": 4,
  "language_info": {
   "file_extension": ".jl",
   "name": "julia",
   "mimetype": "application/julia",
   "version": "1.6.2"
  },
  "kernelspec": {
   "name": "julia-1.6",
   "display_name": "Julia 1.6.2",
   "language": "julia"
  }
 },
 "nbformat": 4,
 "nbformat_minor": 2
}