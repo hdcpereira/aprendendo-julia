{
 "cells": [
  {
   "cell_type": "code",
   "execution_count": 42,
   "source": [
    "# generic function with single dispatch from RAMALHO, L. Fluent Python Chapter 7\n",
    "\n",
    "import html\n",
    "\n",
    "def htmlize(obj):\n",
    " content = html.escape(repr(obj))\n",
    " return '<pre>{}</pre>'.format(content)"
   ],
   "outputs": [],
   "metadata": {}
  },
  {
   "cell_type": "code",
   "execution_count": 43,
   "source": [
    "htmlize({1, 2, 3})\n",
    "# expected Output\n",
    "# '<pre>{1, 2, 3}</pre>"
   ],
   "outputs": [
    {
     "output_type": "execute_result",
     "data": {
      "text/plain": [
       "'<pre>{1, 2, 3}</pre>'"
      ]
     },
     "metadata": {},
     "execution_count": 43
    }
   ],
   "metadata": {}
  },
  {
   "cell_type": "code",
   "execution_count": 44,
   "source": [
    "htmlize(abs) \n",
    "\n",
    "# expected Output\n",
    "# '<pre>&lt;built-in function abs&gt;</pre>'A\n"
   ],
   "outputs": [
    {
     "output_type": "execute_result",
     "data": {
      "text/plain": [
       "'<pre>&lt;built-in function abs&gt;</pre>'"
      ]
     },
     "metadata": {},
     "execution_count": 44
    }
   ],
   "metadata": {}
  },
  {
   "cell_type": "code",
   "execution_count": 45,
   "source": [
    "htmlize('Heimlich & Co.\\n- a game')\n",
    "\n",
    "# expected Output:\n",
    "# '<p>Heimlich &amp; Co.<br>\\n- a game</p>'\n"
   ],
   "outputs": [
    {
     "output_type": "execute_result",
     "data": {
      "text/plain": [
       "'<pre>&#x27;Heimlich &amp; Co.\\\\n- a game&#x27;</pre>'"
      ]
     },
     "metadata": {},
     "execution_count": 45
    }
   ],
   "metadata": {}
  },
  {
   "cell_type": "code",
   "execution_count": 46,
   "source": [
    "htmlize(42)\n",
    "\n",
    "# expected Output '<pre>42 (0x2a)</pre>'"
   ],
   "outputs": [
    {
     "output_type": "execute_result",
     "data": {
      "text/plain": [
       "'<pre>42</pre>'"
      ]
     },
     "metadata": {},
     "execution_count": 46
    }
   ],
   "metadata": {}
  },
  {
   "cell_type": "code",
   "execution_count": 47,
   "source": [
    "print(htmlize(['alpha', 66, {3, 2, 1}]))\n",
    "\n",
    "# expected Output\n",
    "\n",
    "# <ul>\n",
    "# <li><p>alpha</p></li>\n",
    "# <li><pre>66 (0x42)</pre></li>\n",
    "# <li><pre>{1, 2, 3}</pre></li>\n",
    "# </ul>"
   ],
   "outputs": [
    {
     "output_type": "stream",
     "name": "stdout",
     "text": [
      "<pre>[&#x27;alpha&#x27;, 66, {1, 2, 3}]</pre>\n"
     ]
    }
   ],
   "metadata": {}
  },
  {
   "cell_type": "code",
   "execution_count": 48,
   "source": [
    "from functools import singledispatch\n",
    "from collections import abc\n",
    "import numbers\n",
    "import html\n",
    "\n",
    "@singledispatch\n",
    "def htmlize2(obj):\n",
    " content = html.escape(repr(obj))\n",
    " return '<pre>{}</pre>'.format(content)\n",
    "\n",
    "@htmlize2.register(str)\n",
    "def _(text):\n",
    " content = html.escape(text).replace('\\n', '<br>\\n')\n",
    " return '<p>{0}</p>'.format(content)\n",
    "\n",
    "@htmlize2.register(numbers.Integral)\n",
    "def _(n):\n",
    " return '<pre>{0} (0x{0:x})</pre>'.format(n)\n",
    "\n",
    "@htmlize2.register(tuple)\n",
    "\n",
    "@htmlize2.register(abc.MutableSequence)\n",
    "def _(seq):\n",
    " inner = '</li>\\n<li>'.join(htmlize(item) for item in seq)\n",
    " return '<ul>\\n<li>' + inner + '</li>\\n</ul>'"
   ],
   "outputs": [],
   "metadata": {}
  },
  {
   "cell_type": "code",
   "execution_count": 49,
   "source": [
    "htmlize2({1, 2, 3}) \n",
    "\n",
    "# expected Output\n",
    "# '<pre>{1, 2, 3}</pre>\n"
   ],
   "outputs": [
    {
     "output_type": "execute_result",
     "data": {
      "text/plain": [
       "'<pre>{1, 2, 3}</pre>'"
      ]
     },
     "metadata": {},
     "execution_count": 49
    }
   ],
   "metadata": {}
  },
  {
   "cell_type": "code",
   "execution_count": 50,
   "source": [
    "htmlize(abs) \n",
    "\n",
    "# expected Output\n",
    "# '<pre>&lt;built-in function abs&gt;</pre>'A\n"
   ],
   "outputs": [
    {
     "output_type": "execute_result",
     "data": {
      "text/plain": [
       "'<pre>&lt;built-in function abs&gt;</pre>'"
      ]
     },
     "metadata": {},
     "execution_count": 50
    }
   ],
   "metadata": {}
  },
  {
   "cell_type": "code",
   "execution_count": 51,
   "source": [
    "htmlize2('Heimlich & Co.\\n- a game')\n",
    "\n",
    "# expected Output:\n",
    "# '<p>Heimlich &amp; Co.<br>\\n- a game</p>'\n",
    "\n"
   ],
   "outputs": [
    {
     "output_type": "execute_result",
     "data": {
      "text/plain": [
       "'<p>Heimlich &amp; Co.<br>\\n- a game</p>'"
      ]
     },
     "metadata": {},
     "execution_count": 51
    }
   ],
   "metadata": {}
  },
  {
   "cell_type": "code",
   "execution_count": 52,
   "source": [
    "htmlize2(42)\n",
    "\n",
    "# expected Output '<pre>42 (0x2a)</pre>'"
   ],
   "outputs": [
    {
     "output_type": "execute_result",
     "data": {
      "text/plain": [
       "'<pre>42 (0x2a)</pre>'"
      ]
     },
     "metadata": {},
     "execution_count": 52
    }
   ],
   "metadata": {}
  },
  {
   "cell_type": "code",
   "execution_count": 53,
   "source": [
    "htmlize2(['alpha', 66, {3, 2, 1}])\n",
    "\n",
    "# Output\n",
    "\n",
    "# <ul>\n",
    "# <li><p>alpha</p></li>\n",
    "# <li><pre>66 (0x42)</pre></li>\n",
    "# <li><pre>{1, 2, 3}</pre></li>\n",
    "# </ul>"
   ],
   "outputs": [
    {
     "output_type": "execute_result",
     "data": {
      "text/plain": [
       "'<ul>\\n<li><pre>&#x27;alpha&#x27;</pre></li>\\n<li><pre>66</pre></li>\\n<li><pre>{1, 2, 3}</pre></li>\\n</ul>'"
      ]
     },
     "metadata": {},
     "execution_count": 53
    }
   ],
   "metadata": {}
  },
  {
   "cell_type": "code",
   "execution_count": 54,
   "source": [
    "type({1,2,3})"
   ],
   "outputs": [
    {
     "output_type": "execute_result",
     "data": {
      "text/plain": [
       "set"
      ]
     },
     "metadata": {},
     "execution_count": 54
    }
   ],
   "metadata": {}
  },
  {
   "cell_type": "code",
   "execution_count": null,
   "source": [],
   "outputs": [],
   "metadata": {}
  }
 ],
 "metadata": {
  "orig_nbformat": 4,
  "language_info": {
   "name": "python",
   "version": "3.8.10",
   "mimetype": "text/x-python",
   "codemirror_mode": {
    "name": "ipython",
    "version": 3
   },
   "pygments_lexer": "ipython3",
   "nbconvert_exporter": "python",
   "file_extension": ".py"
  },
  "kernelspec": {
   "name": "python3",
   "display_name": "Python 3.8.10 64-bit"
  },
  "interpreter": {
   "hash": "916dbcbb3f70747c44a77c7bcd40155683ae19c65e1c03b4aa3499c5328201f1"
  }
 },
 "nbformat": 4,
 "nbformat_minor": 2
}