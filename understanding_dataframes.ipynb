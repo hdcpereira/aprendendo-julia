{
 "cells": [
  {
   "cell_type": "code",
   "execution_count": 62,
   "source": [
    "# Read data from a CSV\n",
    "\n",
    "using DataFrames\n",
    "using CSV\n",
    "using Dates\n",
    "\n",
    "file = \"log1910.csv\"\n",
    "my_data = CSV.read(file, DataFrame, header = 1, copycols = true, types=Dict(:mot => Bool));"
   ],
   "outputs": [],
   "metadata": {}
  },
  {
   "cell_type": "code",
   "execution_count": 63,
   "source": [
    "# Read data from the web:\n",
    "using DataFrames, HTTP, CSV\n",
    "resp = HTTP.request(\"GET\", \"https://data.cityofnewyork.us/api/views/kku6-nxdu/rows.csv?accessType=DOWNLOAD\")\n",
    "df = CSV.read(IOBuffer(String(resp.body)), DataFrame);\n"
   ],
   "outputs": [],
   "metadata": {}
  },
  {
   "cell_type": "code",
   "execution_count": 64,
   "source": [
    "# Empty df:\n",
    "df_1 = DataFrame(A = Int64[], B = Float64[]);"
   ],
   "outputs": [],
   "metadata": {}
  },
  {
   "cell_type": "code",
   "execution_count": 65,
   "source": [
    "describe(my_data)"
   ],
   "outputs": [
    {
     "output_type": "execute_result",
     "data": {
      "text/html": [
       "<div class=\"data-frame\"><p>19 rows × 7 columns (omitted printing of 1 columns)</p><table class=\"data-frame\"><thead><tr><th></th><th>variable</th><th>mean</th><th>min</th><th>median</th><th>max</th><th>nmissing</th></tr><tr><th></th><th title=\"Symbol\">Symbol</th><th title=\"Union{Nothing, Float64}\">Union…</th><th title=\"Any\">Any</th><th title=\"Union{Nothing, Float64}\">Union…</th><th title=\"Any\">Any</th><th title=\"Int64\">Int64</th></tr></thead><tbody><tr><th>1</th><td>tempo</td><td></td><td>2019-10-03 14:04:22</td><td></td><td>2019-10-21 09:30:44</td><td>0</td></tr><tr><th>2</th><td>milisec</td><td>499.893</td><td>0</td><td>501.0</td><td>999</td><td>0</td></tr><tr><th>3</th><td>campo_ima</td><td>6046.47</td><td>5703</td><td>6040.0</td><td>6201</td><td>0</td></tr><tr><th>4</th><td>corrente_ima</td><td>18859.6</td><td>16348</td><td>18855.0</td><td>20978</td><td>0</td></tr><tr><th>5</th><td>vt</td><td>1.04879e6</td><td>561</td><td>1.04112e6</td><td>1363345</td><td>0</td></tr><tr><th>6</th><td>slit_he</td><td>674.244</td><td>-781</td><td>436.0</td><td>4556</td><td>0</td></tr><tr><th>7</th><td>slit_le</td><td>-1639.48</td><td>-2427</td><td>-2394.0</td><td>10113</td><td>0</td></tr><tr><th>8</th><td>pos_agulha</td><td>2451.02</td><td>169</td><td>2699.0</td><td>2965</td><td>0</td></tr><tr><th>9</th><td>iagulha</td><td>4176.8</td><td>-216</td><td>4609.0</td><td>7668</td><td>0</td></tr><tr><th>10</th><td>vgrid</td><td>7920.98</td><td>2841</td><td>6617.0</td><td>18872</td><td>0</td></tr><tr><th>11</th><td>icarga</td><td>20911.5</td><td>-178</td><td>21540.0</td><td>23062</td><td>0</td></tr><tr><th>12</th><td>ile</td><td>6683.21</td><td>-9</td><td>6629.0</td><td>8808</td><td>0</td></tr><tr><th>13</th><td>ihe</td><td>6618.18</td><td>-38</td><td>6573.0</td><td>8702</td><td>0</td></tr><tr><th>14</th><td>ple</td><td>-2.99101</td><td>-4</td><td>-3.0</td><td>-2</td><td>0</td></tr><tr><th>15</th><td>phe</td><td>-2.21213</td><td>-6</td><td>-2.0</td><td>-1</td><td>0</td></tr><tr><th>16</th><td>vind</td><td>18532.1</td><td>1089</td><td>19040.0</td><td>19110</td><td>0</td></tr><tr><th>17</th><td>dif_corrente</td><td>2313.71</td><td>-10891</td><td>1974.0</td><td>6972</td><td>0</td></tr><tr><th>18</th><td>iliq</td><td>3733.27</td><td>-10864</td><td>3997.0</td><td>18035</td><td>0</td></tr><tr><th>19</th><td>mot</td><td>0.992175</td><td>0</td><td>1.0</td><td>1</td><td>0</td></tr></tbody></table></div>"
      ],
      "text/latex": [
       "\\begin{tabular}{r|ccccccc}\n",
       "\t& variable & mean & min & median & max & nmissing & \\\\\n",
       "\t\\hline\n",
       "\t& Symbol & Union… & Any & Union… & Any & Int64 & \\\\\n",
       "\t\\hline\n",
       "\t1 & tempo &  & 2019-10-03 14:04:22 &  & 2019-10-21 09:30:44 & 0 & $\\dots$ \\\\\n",
       "\t2 & milisec & 499.893 & 0 & 501.0 & 999 & 0 & $\\dots$ \\\\\n",
       "\t3 & campo\\_ima & 6046.47 & 5703 & 6040.0 & 6201 & 0 & $\\dots$ \\\\\n",
       "\t4 & corrente\\_ima & 18859.6 & 16348 & 18855.0 & 20978 & 0 & $\\dots$ \\\\\n",
       "\t5 & vt & 1.04879e6 & 561 & 1.04112e6 & 1363345 & 0 & $\\dots$ \\\\\n",
       "\t6 & slit\\_he & 674.244 & -781 & 436.0 & 4556 & 0 & $\\dots$ \\\\\n",
       "\t7 & slit\\_le & -1639.48 & -2427 & -2394.0 & 10113 & 0 & $\\dots$ \\\\\n",
       "\t8 & pos\\_agulha & 2451.02 & 169 & 2699.0 & 2965 & 0 & $\\dots$ \\\\\n",
       "\t9 & iagulha & 4176.8 & -216 & 4609.0 & 7668 & 0 & $\\dots$ \\\\\n",
       "\t10 & vgrid & 7920.98 & 2841 & 6617.0 & 18872 & 0 & $\\dots$ \\\\\n",
       "\t11 & icarga & 20911.5 & -178 & 21540.0 & 23062 & 0 & $\\dots$ \\\\\n",
       "\t12 & ile & 6683.21 & -9 & 6629.0 & 8808 & 0 & $\\dots$ \\\\\n",
       "\t13 & ihe & 6618.18 & -38 & 6573.0 & 8702 & 0 & $\\dots$ \\\\\n",
       "\t14 & ple & -2.99101 & -4 & -3.0 & -2 & 0 & $\\dots$ \\\\\n",
       "\t15 & phe & -2.21213 & -6 & -2.0 & -1 & 0 & $\\dots$ \\\\\n",
       "\t16 & vind & 18532.1 & 1089 & 19040.0 & 19110 & 0 & $\\dots$ \\\\\n",
       "\t17 & dif\\_corrente & 2313.71 & -10891 & 1974.0 & 6972 & 0 & $\\dots$ \\\\\n",
       "\t18 & iliq & 3733.27 & -10864 & 3997.0 & 18035 & 0 & $\\dots$ \\\\\n",
       "\t19 & mot & 0.992175 & 0 & 1.0 & 1 & 0 & $\\dots$ \\\\\n",
       "\\end{tabular}\n"
      ],
      "text/plain": [
       "\u001b[1m19×7 DataFrame\u001b[0m\n",
       "\u001b[1m Row \u001b[0m│\u001b[1m variable     \u001b[0m\u001b[1m mean      \u001b[0m\u001b[1m min                 \u001b[0m\u001b[1m median    \u001b[0m\u001b[1m max           \u001b[0m ⋯\n",
       "\u001b[1m     \u001b[0m│\u001b[90m Symbol       \u001b[0m\u001b[90m Union…    \u001b[0m\u001b[90m Any                 \u001b[0m\u001b[90m Union…    \u001b[0m\u001b[90m Any           \u001b[0m ⋯\n",
       "─────┼──────────────────────────────────────────────────────────────────────────\n",
       "   1 │ tempo        \u001b[90m           \u001b[0m 2019-10-03 14:04:22 \u001b[90m           \u001b[0m 2019-10-21 09: ⋯\n",
       "   2 │ milisec       499.893    0                    501.0      999\n",
       "   3 │ campo_ima     6046.47    5703                 6040.0     6201\n",
       "   4 │ corrente_ima  18859.6    16348                18855.0    20978\n",
       "   5 │ vt            1.04879e6  561                  1.04112e6  1363345        ⋯\n",
       "   6 │ slit_he       674.244    -781                 436.0      4556\n",
       "   7 │ slit_le       -1639.48   -2427                -2394.0    10113\n",
       "   8 │ pos_agulha    2451.02    169                  2699.0     2965\n",
       "   9 │ iagulha       4176.8     -216                 4609.0     7668           ⋯\n",
       "  10 │ vgrid         7920.98    2841                 6617.0     18872\n",
       "  11 │ icarga        20911.5    -178                 21540.0    23062\n",
       "  12 │ ile           6683.21    -9                   6629.0     8808\n",
       "  13 │ ihe           6618.18    -38                  6573.0     8702           ⋯\n",
       "  14 │ ple           -2.99101   -4                   -3.0       -2\n",
       "  15 │ phe           -2.21213   -6                   -2.0       -1\n",
       "  16 │ vind          18532.1    1089                 19040.0    19110\n",
       "  17 │ dif_corrente  2313.71    -10891               1974.0     6972           ⋯\n",
       "  18 │ iliq          3733.27    -10864               3997.0     18035\n",
       "  19 │ mot           0.992175   false                1.0        true\n",
       "\u001b[36m                                                               3 columns omitted\u001b[0m"
      ]
     },
     "metadata": {},
     "execution_count": 65
    }
   ],
   "metadata": {}
  },
  {
   "cell_type": "code",
   "execution_count": null,
   "source": [],
   "outputs": [],
   "metadata": {}
  }
 ],
 "metadata": {
  "orig_nbformat": 4,
  "language_info": {
   "file_extension": ".jl",
   "name": "julia",
   "mimetype": "application/julia",
   "version": "1.6.2"
  },
  "kernelspec": {
   "name": "julia-1.6",
   "display_name": "Julia 1.6.2",
   "language": "julia"
  }
 },
 "nbformat": 4,
 "nbformat_minor": 2
}