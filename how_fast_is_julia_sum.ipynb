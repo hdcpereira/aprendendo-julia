{
 "cells": [
  {
   "cell_type": "code",
   "execution_count": 1,
   "source": [
    "using BenchmarkTools\n",
    "using PyCall\n",
    "using Conda\n",
    "using Libdl\n",
    "using StatsPlots\n",
    "using Plots\n",
    "using Printf\n",
    "\n",
    "gr()\n",
    "Plots.GRBackend()\n"
   ],
   "outputs": [
    {
     "output_type": "execute_result",
     "data": {
      "text/plain": [
       "Plots.GRBackend()"
      ]
     },
     "metadata": {},
     "execution_count": 1
    }
   ],
   "metadata": {}
  },
  {
   "cell_type": "code",
   "execution_count": 2,
   "source": [
    "a = rand(10^7) ;# Vetor unidimensional com número aleatórios.\n",
    "sum(a)\n",
    "\n",
    "d = Dict()"
   ],
   "outputs": [
    {
     "output_type": "execute_result",
     "data": {
      "text/plain": [
       "Dict{Any, Any}()"
      ]
     },
     "metadata": {},
     "execution_count": 2
    }
   ],
   "metadata": {}
  },
  {
   "cell_type": "markdown",
   "source": [
    "## C language"
   ],
   "metadata": {}
  },
  {
   "cell_type": "code",
   "execution_count": 3,
   "source": [
    "\n",
    "C_code = \"\"\"\n",
    "#include <stddef.h>\n",
    "double c_sum(size_t n, double *X) {\n",
    "    double s = 0.0;\n",
    "    for (size_t i = 0; i < n; ++i) {\n",
    "        s += X[i];\n",
    "    }\n",
    "    return s;\n",
    "}\n",
    "\"\"\"\n",
    "\n",
    "const Clib = tempname()  \n",
    "\n",
    "open(`gcc -fPIC -O3 -msse3 -xc -shared -o $(Clib * \".\" * Libdl.dlext) -`, \"w\") do f\n",
    "    print(f, C_code) \n",
    "end\n",
    "\n",
    "# definindo a função em Julia que chama a função em C :\n",
    "c_sum(X::Array{Float64}) = ccall((\"c_sum\", Clib), Float64, (Csize_t, Ptr{Float64}), length(X), X)\n",
    "\n",
    "c_bench = @benchmark c_sum($a)\n",
    "\n",
    "d[\"C\"] = median(c_bench.times) / 1e6  # in milliseconds"
   ],
   "outputs": [
    {
     "output_type": "execute_result",
     "data": {
      "text/plain": [
       "10.74062"
      ]
     },
     "metadata": {},
     "execution_count": 3
    }
   ],
   "metadata": {}
  },
  {
   "cell_type": "markdown",
   "source": [
    "## C com a biblioteca -ffast-math "
   ],
   "metadata": {}
  },
  {
   "cell_type": "code",
   "execution_count": 4,
   "source": [
    "const Clib_fastmath = tempname()   # make a temporary file\n",
    "\n",
    "open(`gcc -fPIC -O3 -msse3 -xc -shared -ffast-math -o $(Clib_fastmath * \".\" * Libdl.dlext) -`, \"w\") do f\n",
    "    print(f, C_code) \n",
    "end\n",
    "\n",
    "c_sum_fastmath(X::Array{Float64}) = ccall((\"c_sum\", Clib_fastmath), Float64, (Csize_t, Ptr{Float64}), length(X), X)\n",
    "\n",
    "c_fastmath_bench = @benchmark $c_sum_fastmath($a)\n",
    "\n",
    "d[\"C ffast-math\"] = median(c_fastmath_bench.times)/1e6"
   ],
   "outputs": [
    {
     "output_type": "execute_result",
     "data": {
      "text/plain": [
       "7.286591"
      ]
     },
     "metadata": {},
     "execution_count": 4
    }
   ],
   "metadata": {}
  },
  {
   "cell_type": "markdown",
   "source": [
    "## Python Built-in"
   ],
   "metadata": {}
  },
  {
   "cell_type": "code",
   "execution_count": 5,
   "source": [
    "pysum = pybuiltin(\"sum\")\n",
    "\n",
    "py_list_bench = @benchmark $pysum($a)\n",
    "\n",
    "d[\"Python- Built-in\"] = median(py_list_bench.times)/1e6"
   ],
   "outputs": [
    {
     "output_type": "execute_result",
     "data": {
      "text/plain": [
       "1631.205901"
      ]
     },
     "metadata": {},
     "execution_count": 5
    }
   ],
   "metadata": {}
  },
  {
   "cell_type": "markdown",
   "source": [
    "## Python com **Numpy**"
   ],
   "metadata": {}
  },
  {
   "cell_type": "code",
   "execution_count": 6,
   "source": [
    "\n",
    "\n",
    "numpy_sum = pyimport(\"numpy\")[\"sum\"]\n",
    "\n",
    "py_numpy_bench = @benchmark $numpy_sum($a)\n",
    "\n",
    "d[\"Python numpy\"] = median(py_numpy_bench.times) / 1e6"
   ],
   "outputs": [
    {
     "output_type": "execute_result",
     "data": {
      "text/plain": [
       "4.745711"
      ]
     },
     "metadata": {},
     "execution_count": 6
    }
   ],
   "metadata": {}
  },
  {
   "cell_type": "markdown",
   "source": [
    "## Python definindo a função"
   ],
   "metadata": {}
  },
  {
   "cell_type": "code",
   "execution_count": 7,
   "source": [
    "py\"\"\"\n",
    "def py_sum(A):\n",
    "    s = 0.0\n",
    "    for a in A:\n",
    "        s += a\n",
    "    return s\n",
    "\"\"\"\n",
    "\n",
    "sum_py = py\"py_sum\"\n",
    "\n",
    "py_hand = @benchmark $sum_py($a)\n",
    "\n",
    "d[\"Python hand-written\"] = median(py_hand.times) / 1e6\n"
   ],
   "outputs": [
    {
     "output_type": "execute_result",
     "data": {
      "text/plain": [
       "1942.861377"
      ]
     },
     "metadata": {},
     "execution_count": 7
    }
   ],
   "metadata": {}
  },
  {
   "cell_type": "markdown",
   "source": [
    "## Julia Built-in"
   ],
   "metadata": {}
  },
  {
   "cell_type": "code",
   "execution_count": 8,
   "source": [
    "j_bench = @benchmark sum($a)\n",
    "d[\"Julia built-in\"] = median(j_bench.times) / 1e6\n"
   ],
   "outputs": [
    {
     "output_type": "execute_result",
     "data": {
      "text/plain": [
       "6.45389"
      ]
     },
     "metadata": {},
     "execution_count": 8
    }
   ],
   "metadata": {}
  },
  {
   "cell_type": "markdown",
   "source": [
    "## Julia definindo a função"
   ],
   "metadata": {}
  },
  {
   "cell_type": "code",
   "execution_count": 9,
   "source": [
    "function mysum(A)   \n",
    "    s = 0.0 # s = zero(eltype(a))\n",
    "    for a in A\n",
    "        s += a\n",
    "    end\n",
    "    s\n",
    "end\n",
    "\n",
    "j_bench_hand = @benchmark mysum($a)\n",
    "\n",
    "d[\"Julia hand-written\"] = median(j_bench_hand.times) / 1e6"
   ],
   "outputs": [
    {
     "output_type": "execute_result",
     "data": {
      "text/plain": [
       "10.7421005"
      ]
     },
     "metadata": {},
     "execution_count": 9
    }
   ],
   "metadata": {}
  },
  {
   "cell_type": "markdown",
   "source": [
    "## Resultados"
   ],
   "metadata": {}
  },
  {
   "cell_type": "code",
   "execution_count": 10,
   "source": [
    "for (key, value) in sort(collect(d), by=last)\n",
    "    println(rpad(key, 30, \".\"), lpad(round(value; digits=1), 6, \".\"), \"ms\")\n",
    "end"
   ],
   "outputs": [
    {
     "output_type": "stream",
     "name": "stdout",
     "text": [
      "Python numpy.....................4.7ms\n",
      "Julia built-in...................6.5ms\n",
      "C ffast-math.....................7.3ms\n",
      "C...............................10.7ms\n",
      "Julia hand-written..............10.7ms\n",
      "Python- Built-in..............1631.2ms\n",
      "Python hand-written...........1942.9ms\n"
     ]
    }
   ],
   "metadata": {}
  },
  {
   "cell_type": "code",
   "execution_count": 54,
   "source": [
    "l_vec = sort(collect(d), by=x->x[2], rev = true)\n",
    "\n",
    "x = map(x->x[1], l_vec)\n",
    "y = map(x->x[2], l_vec)\n",
    "\n",
    "y_annotations = [@sprintf(\" %.2f ms\",i) for i in y]  \n",
    "\n",
    "Plots.bar(x ,y ,\n",
    "    xaxis = (\"time (ms)\",false, nothing), \n",
    "    yaxis = (\"Languages\",false),\n",
    "    orientation= :horizontal,label = \"\" , series_annotation = (y_annotations, font(7, :left)),right_margin = 12Plots.mm)\n",
    "\n",
    "\n",
    "png(\"howdy\")"
   ],
   "outputs": [],
   "metadata": {}
  },
  {
   "cell_type": "code",
   "execution_count": 49,
   "source": [
    "d"
   ],
   "outputs": [
    {
     "output_type": "execute_result",
     "data": {
      "text/plain": [
       "Dict{Any, Any} with 7 entries:\n",
       "  \"C\"                   => 10.7406\n",
       "  \"C ffast-math\"        => 7.28659\n",
       "  \"Python- Built-in\"    => 1631.21\n",
       "  \"Python numpy\"        => 4.74571\n",
       "  \"Python hand-written\" => 1942.86\n",
       "  \"Julia built-in\"      => 6.45389\n",
       "  \"Julia hand-written\"  => 10.7421"
      ]
     },
     "metadata": {},
     "execution_count": 49
    }
   ],
   "metadata": {}
  },
  {
   "cell_type": "code",
   "execution_count": null,
   "source": [],
   "outputs": [],
   "metadata": {}
  }
 ],
 "metadata": {
  "orig_nbformat": 4,
  "language_info": {
   "file_extension": ".jl",
   "name": "julia",
   "mimetype": "application/julia",
   "version": "1.6.2"
  },
  "kernelspec": {
   "name": "julia-1.6",
   "display_name": "Julia 1.6.2",
   "language": "julia"
  }
 },
 "nbformat": 4,
 "nbformat_minor": 2
}