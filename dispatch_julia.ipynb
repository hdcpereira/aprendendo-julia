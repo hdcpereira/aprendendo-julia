{
 "cells": [
  {
   "cell_type": "code",
   "execution_count": 231,
   "source": [],
   "outputs": [],
   "metadata": {}
  },
  {
   "cell_type": "code",
   "execution_count": 236,
   "source": [
    "using Markdown\n",
    "\n",
    "function htmlize(text::String)\n",
    "    content = replace(Markdown.htmlesc(text), \"\\n\"=> \"<br>\\n\")  \n",
    "    return \"<p>$content</p>\"    \n",
    "end\n",
    "\n",
    "function htmlize(num::Int64)\n",
    "    content = string(num, base = 16)\n",
    "    return \"<pre>{$num} (0x$content)</pre>\"\n",
    "end\n",
    "\n",
    "function htmlize(seq::Tuple)\n",
    "    inner = join([htmlize(item) for item in seq],\"</li>\\n<li>\")   \n",
    "    return string(\"<ul>\\n<li>\",inner,\"</li>\\n</ul>\")\n",
    "end\n",
    "\n",
    "htmlize(object::Set) = \"<pre>$object</p>\"\n"
   ],
   "outputs": [
    {
     "output_type": "execute_result",
     "data": {
      "text/plain": [
       "htmlize (generic function with 7 methods)"
      ]
     },
     "metadata": {},
     "execution_count": 236
    }
   ],
   "metadata": {}
  },
  {
   "cell_type": "code",
   "execution_count": 237,
   "source": [
    "htmlize(\"Heimlich & Co.\\n- a game\")"
   ],
   "outputs": [
    {
     "output_type": "execute_result",
     "data": {
      "text/plain": [
       "\"<p>Heimlich &amp; Co.<br>\\n- a game</p>\""
      ]
     },
     "metadata": {},
     "execution_count": 237
    }
   ],
   "metadata": {}
  },
  {
   "cell_type": "code",
   "execution_count": 238,
   "source": [
    "htmlize(42)"
   ],
   "outputs": [
    {
     "output_type": "execute_result",
     "data": {
      "text/plain": [
       "\"<pre>{num} (0x2a)</pre>\""
      ]
     },
     "metadata": {},
     "execution_count": 238
    }
   ],
   "metadata": {}
  },
  {
   "cell_type": "code",
   "execution_count": 239,
   "source": [
    "println(htmlize((\"alpha\", 66, [1, 2, 3])))"
   ],
   "outputs": [
    {
     "output_type": "stream",
     "name": "stdout",
     "text": [
      "<ul>\n",
      "<li><p>alpha</p></li>\n",
      "<li><pre>{num} (0x42)</pre></li>\n",
      "<li><pre>[1, 2, 3]</p></li>\n",
      "</ul>\n"
     ]
    }
   ],
   "metadata": {}
  },
  {
   "cell_type": "code",
   "execution_count": null,
   "source": [],
   "outputs": [],
   "metadata": {}
  }
 ],
 "metadata": {
  "orig_nbformat": 4,
  "language_info": {
   "file_extension": ".jl",
   "name": "julia",
   "mimetype": "application/julia",
   "version": "1.6.2"
  },
  "kernelspec": {
   "name": "julia-1.6",
   "display_name": "Julia 1.6.2",
   "language": "julia"
  }
 },
 "nbformat": 4,
 "nbformat_minor": 2
}